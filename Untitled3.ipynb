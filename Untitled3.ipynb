{
  "nbformat": 4,
  "nbformat_minor": 0,
  "metadata": {
    "colab": {
      "provenance": [],
      "authorship_tag": "ABX9TyPh6W9U9lSL4x8GKvEtQQT/",
      "include_colab_link": true
    },
    "kernelspec": {
      "name": "python3",
      "display_name": "Python 3"
    },
    "language_info": {
      "name": "python"
    }
  },
  "cells": [
    {
      "cell_type": "markdown",
      "metadata": {
        "id": "view-in-github",
        "colab_type": "text"
      },
      "source": [
        "<a href=\"https://colab.research.google.com/github/Abhilashvadukari/2303a51227-AIML-2025/blob/main/Untitled3.ipynb\" target=\"_parent\"><img src=\"https://colab.research.google.com/assets/colab-badge.svg\" alt=\"Open In Colab\"/></a>"
      ]
    },
    {
      "cell_type": "markdown",
      "source": [
        "lab @3 AIML\n"
      ],
      "metadata": {
        "id": "DQo3oKLeXmil"
      }
    },
    {
      "cell_type": "code",
      "source": [
        "from collections import namedtuple, Counter, defaultdict  # Change 'counter' to 'Counter'\n",
        "import random\n",
        "import math\n",
        "import functools\n",
        "\n",
        "cache = functools.lru_cache(10**6)"
      ],
      "metadata": {
        "collapsed": true,
        "id": "gDLlGTMFXo5k"
      },
      "execution_count": null,
      "outputs": []
    },
    {
      "cell_type": "code",
      "source": [
        "def pl"
      ],
      "metadata": {
        "id": "UKphwc-1c-xs"
      },
      "execution_count": null,
      "outputs": []
    },
    {
      "cell_type": "code",
      "source": [
        "class Game:\n",
        " def actions (self , state ):\n",
        "      raise NotImplementedError\n",
        "\n",
        " def result (self , state , move ):\n",
        "     raise NotImplementedError\n",
        "\n",
        "def is_terminal(self, state):\n",
        "    return not self.actions(state)\n",
        "\n",
        "def utility (self , state , player ):\n",
        "    raise NotImplementedError\n",
        "\n",
        "\n"
      ],
      "metadata": {
        "id": "BsnPZ0i3ZqTN"
      },
      "execution_count": null,
      "outputs": []
    },
    {
      "cell_type": "code",
      "source": [
        "def play_game(game, strategies: dict, verbose=False):\n",
        "    # Initialize the state\n",
        "    state = game.initial\n",
        "\n",
        "    # Loop until the game reaches a terminal state\n",
        "    while not game.is_terminal(state):\n",
        "        player = state.to_move  # Get the player whose turn it is\n",
        "        move = strategies[player](game, state)  # Get the move for the current player\n",
        "        state = game.result(state, move)  # Update the state based on the move\n",
        "\n",
        "        # Print the current state and move if verbose is True\n",
        "        if verbose:\n",
        "            print('Player', player, 'move:', move)\n",
        "            print(state)\n",
        "\n",
        "    return state\n"
      ],
      "metadata": {
        "id": "HwLqcG8PeOT9"
      },
      "execution_count": null,
      "outputs": []
    },
    {
      "cell_type": "markdown",
      "source": [
        "Part 2 Implementation min max Algorithmn\n"
      ],
      "metadata": {
        "id": "kHyup4vxgonj"
      }
    },
    {
      "cell_type": "code",
      "source": [
        "import math\n",
        "\n",
        "def minimax_search(game, state):\n",
        "    \"\"\"Search game tree to determine best move; return (value, move) pair.\"\"\"\n",
        "    player = state.to_move\n",
        "\n",
        "    def max_value(state):\n",
        "        if game.is_terminal(state):\n",
        "            return game.utility(state, player), None\n",
        "\n",
        "        v, move = -math.inf, None\n",
        "        for action in game.actions(state):\n",
        "            v2, _ = min_value(game.result(state, action))\n",
        "            if v2 > v:\n",
        "                v, move = v2, action\n",
        "        return v, move\n",
        "\n",
        "    def min_value(state):\n",
        "        if game.is_terminal(state):\n",
        "            return game.utility(state, player), None\n",
        "\n",
        "        v, move = math.inf, None\n",
        "        for action in game.actions(state):\n",
        "            v2, _ = max_value(game.result(state, action))\n",
        "            if v2 < v:\n",
        "                v, move = v2, action\n",
        "        return v, move\n",
        "\n",
        "    return max_value(state)\n"
      ],
      "metadata": {
        "id": "E9DiX3P6fQt7"
      },
      "execution_count": null,
      "outputs": []
    },
    {
      "cell_type": "markdown",
      "source": [
        "Part 2 implementation alpha beta search algorithmn"
      ],
      "metadata": {
        "id": "dAeyLqwqh1fJ"
      }
    },
    {
      "cell_type": "code",
      "source": [
        "import math\n",
        "\n",
        "def alphabeta_search(game, state):\n",
        "    \"\"\"Search game to determine best action; use alpha-beta pruning.\n",
        "    Search all the way to the leaves.\n",
        "    \"\"\"\n",
        "    player = state.to_move\n",
        "\n",
        "    def max_value(state, alpha, beta):\n",
        "        if game.is_terminal(state):\n",
        "            return game.utility(state, player), None\n",
        "\n",
        "        v, move = -math.inf, None\n",
        "        for action in game.actions(state):\n",
        "            v2, _ = min_value(game.result(state, action), alpha, beta)\n",
        "            if v2 > v:\n",
        "                v, move = v2, action\n",
        "            alpha = max(alpha, v)\n",
        "            if v >= beta:\n",
        "                return v, move\n",
        "        return v, move\n",
        "\n",
        "    def min_value(state, alpha, beta):\n",
        "        if game.is_terminal(state):\n",
        "            return game.utility(state, player), None\n",
        "\n",
        "        v, move = math.inf, None\n",
        "        for action in game.actions(state):\n",
        "            v2, _ = max_value(game.result(state, action), alpha, beta)\n",
        "            if v2 < v:\n",
        "                v, move = v2, action\n",
        "            beta = min(beta, v)\n",
        "            if v <= alpha:\n",
        "                return v, move\n",
        "        return v, move\n",
        "\n",
        "    return max_value(state, -math.inf, math.inf)\n"
      ],
      "metadata": {
        "id": "hcPUpTGAhx35"
      },
      "execution_count": 1,
      "outputs": []
    },
    {
      "cell_type": "markdown",
      "source": [
        "part 3 implementation of game strategy using titoctoe"
      ],
      "metadata": {
        "id": "k90BxEK8irq8"
      }
    },
    {
      "cell_type": "code",
      "source": [
        "\n",
        "\n",
        "\n",
        "    def __init__(self, height=3, width=3, k=3):\n",
        "        self.k = k  # k in a row\n",
        "        self.squares = {(x, y) for x in range(width) for y in range(height)}\n",
        "        self.initial = Board(height=height, width=width, to_move='X', utility=0)\n",
        "\n",
        "    def actions(self, board):\n",
        "        \"\"\"Legal moves are any square not yet taken.\"\"\"\n",
        "        return self.squares - set(board)\n",
        "\n",
        "    def result(self, board, square):\n",
        "        \"\"\"Place a marker for the current player on square.\"\"\"\n",
        "        player = board.to_move\n",
        "        new_board = board.new({square: player}, to_move=('O' if player == 'X' else 'X'))\n",
        "        win = self.k_in_row(new_board, player, square, self.k)\n",
        "        new_board.utility = 0 if not win else (1 if player == 'X' else -1)\n",
        "        return new_board\n",
        "\n",
        "    def utility(self, board, player):\n",
        "        \"\"\"Return the value to player; 1 for win, -1 for loss, 0 otherwise.\"\"\"\n",
        "        return board.utility if player == 'X' else -board.utility\n",
        "\n",
        "    def is_terminal(self, board):\n",
        "        \"\"\"A board is a terminal state if it is won or there are no empty squares.\"\"\"\n",
        "        return board.utility != 0 or len(self.squares - set(board)) == 0\n",
        "\n",
        "    def display(self, board):\n",
        "        print(board)\n",
        "\n",
        "    def k_in_row(self, board, player, square, k):\n",
        "        \"\"\"True if player has k pieces in a line through square.\"\"\"\n",
        "        def in_row(x, y, dx, dy):\n",
        "            count = 0\n",
        "            while (x, y) in board and board[x, y] == player:\n",
        "                count += 1\n",
        "                x += dx\n",
        "                y += dy\n",
        "            return count\n",
        "\n",
        "        x, y = square\n",
        "        return any(\n",
        "            in_row(x, y, dx, dy) + in_row(x, y, -dx, -dy) - 1 >= k\n",
        "            for dx, dy in ((0, 1), (1, 0), (1, 1), (1, -1))\n",
        "        )\n"
      ],
      "metadata": {
        "id": "oa2Vh5BHjAqb"
      },
      "execution_count": 9,
      "outputs": []
    },
    {
      "cell_type": "markdown",
      "source": [
        "implementattion of board using defaultdict"
      ],
      "metadata": {
        "id": "8l5QOqT6mwAM"
      }
    },
    {
      "cell_type": "code",
      "source": [
        "class Board:\n",
        "    def __init__(self, width=8, height=8, to_move=None, **kwds):\n",
        "        self.width = width\n",
        "        self.height = height\n",
        "        self.to_move = to_move\n",
        "        self.dic = {}  # Assuming this is meant to be a dictionary to hold board state\n",
        "        self.dic.update(width=width, height=height, to_move=to_move, **kwds)\n",
        "\n",
        "    def new(self, changes: dict, **kwds) -> 'Board':\n",
        "        \"\"\"\n",
        "        Given a dict of {(x, y): contents} changes, return a new Board with the changes.\n",
        "        \"\"\"\n",
        "        board = Board(width=self.width, height=self.height, to_move=self.to_move, **kwds)\n",
        "        board.dic.update(self.dic)\n",
        "        board.dic.update(changes)\n",
        "        return board\n",
        "\n",
        "    def missing(self, loc):\n",
        "        x, y = loc\n",
        "        if 0 <= x < self.width and 0 <= y < self.height:\n",
        "            return self.dic.get((x, y), self.empty)  # Use self.dic to get content or return self.empty\n",
        "        else:\n",
        "            return self.off  # Assuming self.off is defined somewhere in your class\n",
        "\n",
        "    def __hash__(self):\n",
        "        return hash(tuple(sorted(self.dic.items()))) + hash(self.to_move)\n",
        "\n",
        "    def __repr__(self):\n",
        "        def row(y):\n",
        "            return ' '.join(self.dic.get((x, y), ' ') for x in range(self.width))\n",
        "        return '\\n'.join(map(row, range(self.height))) + '\\n'\n"
      ],
      "metadata": {
        "id": "xg_L4o9zm-Q6"
      },
      "execution_count": 8,
      "outputs": []
    },
    {
      "cell_type": "code",
      "source": [
        "import os\n",
        "\n",
        "class TicTacToe:\n",
        "    def __init__(self):\n",
        "        self.board = [' ' for _ in range(9)]  # 3x3 board\n",
        "        self.current_player = 'X'  # Player 'X' starts\n",
        "\n",
        "    def print_board(self):\n",
        "        os.system('cls' if os.name == 'nt' else 'clear')  # Clear screen for Windows or Unix\n",
        "        print(f\"\"\"\n",
        "        {self.board[0]} | {self.board[1]} | {self.board[2]}\n",
        "        ---------\n",
        "        {self.board[3]} | {self.board[4]} | {self.board[5]}\n",
        "        ---------\n",
        "        {self.board[6]} | {self.board[7]} | {self.board[8]}\n",
        "        \"\"\")\n",
        "\n",
        "    def check_winner(self):\n",
        "        win_conditions = [\n",
        "            (0, 1, 2), (3, 4, 5), (6, 7, 8),  # Horizontal\n",
        "            (0, 3, 6), (1, 4, 7), (2, 5, 8),  # Vertical\n",
        "            (0, 4, 8), (2, 4, 6)               # Diagonal\n",
        "        ]\n",
        "        for a, b, c in win_conditions:\n",
        "            if self.board[a] == self.board[b] == self.board[c] and self.board[a] != ' ':\n",
        "                return self.board[a]\n",
        "        return None\n",
        "\n",
        "    def is_full(self):\n",
        "        return ' ' not in self.board\n",
        "\n",
        "    def play_move(self, position):\n",
        "        if self.board[position] == ' ':\n",
        "            self.board[position] = self.current_player\n",
        "            winner = self.check_winner()\n",
        "            if winner:\n",
        "                self.print_board()\n",
        "                print(f\"Player {winner} wins!\")\n",
        "                return True\n",
        "            if self.is_full():\n",
        "                self.print_board()\n",
        "                print(\"It's a tie!\")\n",
        "                return True\n",
        "            self.current_player = 'O' if self.current_player == 'X' else 'X'\n",
        "        else:\n",
        "            print(\"Invalid move. Try again.\")\n",
        "        return False\n",
        "\n",
        "    def start_game(self):\n",
        "        print(\"Welcome to Tic-Tac-Toe!\")\n",
        "        while True:\n",
        "            self.print_board()\n",
        "            try:\n",
        "                move = int(input(f\"Player {self.current_player}, enter your move (1-9): \")) - 1\n",
        "                if 0 <= move < 9:\n",
        "                    if self.play_move(move):\n",
        "                        break\n",
        "                else:\n",
        "                    print(\"Move must be between 1 and 9.\")\n",
        "            except ValueError:\n",
        "                print(\"Invalid input. Please enter a number between 1 and 9.\")\n",
        "\n",
        "if __name__ == \"__main__\":\n",
        "    game = TicTacToe()\n",
        "    game.start_game()\n"
      ],
      "metadata": {
        "id": "FA5qB2nTpvJF",
        "outputId": "7afdadc7-75b1-464f-d1d6-4930a879199a",
        "colab": {
          "base_uri": "https://localhost:8080/"
        }
      },
      "execution_count": null,
      "outputs": [
        {
          "output_type": "stream",
          "name": "stdout",
          "text": [
            "Welcome to Tic-Tac-Toe!\n",
            "\n",
            "          |   |  \n",
            "        ---------\n",
            "          |   |  \n",
            "        ---------\n",
            "          |   |  \n",
            "        \n"
          ]
        }
      ]
    }
  ]
}