{
  "nbformat": 4,
  "nbformat_minor": 0,
  "metadata": {
    "colab": {
      "provenance": [],
      "authorship_tag": "ABX9TyObzK0HHqmFWGDfFd60TSUw",
      "include_colab_link": true
    },
    "kernelspec": {
      "name": "python3",
      "display_name": "Python 3"
    },
    "language_info": {
      "name": "python"
    }
  },
  "cells": [
    {
      "cell_type": "markdown",
      "metadata": {
        "id": "view-in-github",
        "colab_type": "text"
      },
      "source": [
        "<a href=\"https://colab.research.google.com/github/Abhilashvadukari/2303a51227-AIML-2025/blob/main/Untitled3.ipynb\" target=\"_parent\"><img src=\"https://colab.research.google.com/assets/colab-badge.svg\" alt=\"Open In Colab\"/></a>"
      ]
    },
    {
      "cell_type": "markdown",
      "source": [
        "lab @3 AIML\n"
      ],
      "metadata": {
        "id": "DQo3oKLeXmil"
      }
    },
    {
      "cell_type": "code",
      "source": [
        "from collections import namedtuple, Counter, defaultdict  # Change 'counter' to 'Counter'\n",
        "import random\n",
        "import math\n",
        "import functools\n",
        "\n",
        "cache = functools.lru_cache(10**6)"
      ],
      "metadata": {
        "collapsed": true,
        "id": "gDLlGTMFXo5k"
      },
      "execution_count": 3,
      "outputs": []
    },
    {
      "cell_type": "code",
      "source": [
        "def pl"
      ],
      "metadata": {
        "id": "UKphwc-1c-xs"
      },
      "execution_count": null,
      "outputs": []
    },
    {
      "cell_type": "code",
      "source": [
        "class Game:\n",
        " def actions (self , state ):\n",
        "      raise NotImplementedError\n",
        "\n",
        " def result (self , state , move ):\n",
        "     raise NotImplementedError\n",
        "\n",
        "def is_terminal(self, state):\n",
        "    return not self.actions(state)\n",
        "\n",
        "def utility (self , state , player ):\n",
        "    raise NotImplementedError\n",
        "\n",
        "\n"
      ],
      "metadata": {
        "id": "BsnPZ0i3ZqTN"
      },
      "execution_count": 12,
      "outputs": []
    },
    {
      "cell_type": "code",
      "source": [
        "def play_game(game, strategies: dict, verbose=False):\n",
        "    # Initialize the state\n",
        "    state = game.initial\n",
        "\n",
        "    # Loop until the game reaches a terminal state\n",
        "    while not game.is_terminal(state):\n",
        "        player = state.to_move  # Get the player whose turn it is\n",
        "        move = strategies[player](game, state)  # Get the move for the current player\n",
        "        state = game.result(state, move)  # Update the state based on the move\n",
        "\n",
        "        # Print the current state and move if verbose is True\n",
        "        if verbose:\n",
        "            print('Player', player, 'move:', move)\n",
        "            print(state)\n",
        "\n",
        "    return state\n"
      ],
      "metadata": {
        "id": "HwLqcG8PeOT9"
      },
      "execution_count": 15,
      "outputs": []
    },
    {
      "cell_type": "markdown",
      "source": [
        "Part 2 Implementation min max Algorithmn\n"
      ],
      "metadata": {
        "id": "kHyup4vxgonj"
      }
    },
    {
      "cell_type": "code",
      "source": [
        "import math\n",
        "\n",
        "def minimax_search(game, state):\n",
        "    \"\"\"Search game tree to determine best move; return (value, move) pair.\"\"\"\n",
        "    player = state.to_move\n",
        "\n",
        "    def max_value(state):\n",
        "        if game.is_terminal(state):\n",
        "            return game.utility(state, player), None\n",
        "\n",
        "        v, move = -math.inf, None\n",
        "        for action in game.actions(state):\n",
        "            v2, _ = min_value(game.result(state, action))\n",
        "            if v2 > v:\n",
        "                v, move = v2, action\n",
        "        return v, move\n",
        "\n",
        "    def min_value(state):\n",
        "        if game.is_terminal(state):\n",
        "            return game.utility(state, player), None\n",
        "\n",
        "        v, move = math.inf, None\n",
        "        for action in game.actions(state):\n",
        "            v2, _ = max_value(game.result(state, action))\n",
        "            if v2 < v:\n",
        "                v, move = v2, action\n",
        "        return v, move\n",
        "\n",
        "    return max_value(state)\n"
      ],
      "metadata": {
        "id": "E9DiX3P6fQt7"
      },
      "execution_count": 17,
      "outputs": []
    }
  ]
}