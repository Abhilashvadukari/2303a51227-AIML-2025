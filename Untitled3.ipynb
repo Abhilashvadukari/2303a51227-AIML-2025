{
  "nbformat": 4,
  "nbformat_minor": 0,
  "metadata": {
    "colab": {
      "provenance": [],
      "authorship_tag": "ABX9TyMMkl0EauDe1WcRNggUy2IM",
      "include_colab_link": true
    },
    "kernelspec": {
      "name": "python3",
      "display_name": "Python 3"
    },
    "language_info": {
      "name": "python"
    }
  },
  "cells": [
    {
      "cell_type": "markdown",
      "metadata": {
        "id": "view-in-github",
        "colab_type": "text"
      },
      "source": [
        "<a href=\"https://colab.research.google.com/github/Abhilashvadukari/2303a51227-AIML-2025/blob/main/Untitled3.ipynb\" target=\"_parent\"><img src=\"https://colab.research.google.com/assets/colab-badge.svg\" alt=\"Open In Colab\"/></a>"
      ]
    },
    {
      "cell_type": "markdown",
      "source": [
        "lab @3 AIML\n"
      ],
      "metadata": {
        "id": "DQo3oKLeXmil"
      }
    },
    {
      "cell_type": "code",
      "source": [
        "from collections import namedtuple, Counter, defaultdict  # Change 'counter' to 'Counter'\n",
        "import random\n",
        "import math\n",
        "import functools\n",
        "\n",
        "cache = functools.lru_cache(10**6)"
      ],
      "metadata": {
        "collapsed": true,
        "id": "gDLlGTMFXo5k"
      },
      "execution_count": 3,
      "outputs": []
    },
    {
      "cell_type": "code",
      "source": [
        "class Game:\n",
        " def actions (self , state ):\n",
        "      raise NotImplementedError\n",
        "\n",
        " def result (self , state , move ):\n",
        "     raise NotImplementedError\n",
        "\n",
        "def is_terminal(self, state):\n",
        "    return not self.actions(state)\n",
        "\n",
        "def utility (self , state , player ):\n",
        "    raise NotImplementedError\n",
        "\n",
        "\n"
      ],
      "metadata": {
        "id": "BsnPZ0i3ZqTN"
      },
      "execution_count": 12,
      "outputs": []
    }
  ]
}