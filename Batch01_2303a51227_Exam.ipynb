{
  "nbformat": 4,
  "nbformat_minor": 0,
  "metadata": {
    "colab": {
      "provenance": [],
      "authorship_tag": "ABX9TyNHxnbkMX4aiklmKArQI65Q",
      "include_colab_link": true
    },
    "kernelspec": {
      "name": "python3",
      "display_name": "Python 3"
    },
    "language_info": {
      "name": "python"
    }
  },
  "cells": [
    {
      "cell_type": "markdown",
      "metadata": {
        "id": "view-in-github",
        "colab_type": "text"
      },
      "source": [
        "<a href=\"https://colab.research.google.com/github/Abhilashvadukari/2303a51227-AIML-2025/blob/main/Batch01_2303a51227_Exam.ipynb\" target=\"_parent\"><img src=\"https://colab.research.google.com/assets/colab-badge.svg\" alt=\"Open In Colab\"/></a>"
      ]
    },
    {
      "cell_type": "markdown",
      "source": [
        "**Batch01 2303a51227**\n",
        "\n",
        "\n",
        "\n",
        "**7.Room occupancy Estimation**\n"
      ],
      "metadata": {
        "id": "5YQtQkZxEuuq"
      }
    },
    {
      "cell_type": "markdown",
      "source": [
        "Q1.Identify the max and minsound,light values liked by most customers.\n",
        "\n",
        "Q2.identify the date and time when room occupancy was most.\n",
        "\n",
        "Q3.predict the temperature most suitable for most room occupancy.\n",
        "\n",
        "\n",
        "Q4.what levels of co2 is suitable and not suitable for room occupancy.\n",
        "\n",
        "\n",
        "Q5.Does motion sensors contribute to increase or decrease of in room occupancy."
      ],
      "metadata": {
        "id": "6m9zga6rGT4S"
      }
    },
    {
      "cell_type": "markdown",
      "source": [
        "Q1.Identify the max and minsound,light values liked by most customers."
      ],
      "metadata": {
        "id": "1tHoz5xmJhp5"
      }
    },
    {
      "cell_type": "code",
      "source": [
        "import pandas as pd\n",
        "\n",
        "\n",
        "data = pd.read_csv('/content/Occupancy_Estimation.csv')\n",
        "\n",
        "\n",
        "data['Timestamp'] = pd.to_datetime(data['Date'] + ' ' + data['Time'])\n",
        "\n",
        "\n",
        "high_occupancy_data = data[data['Room_Occupancy_Count'] > data['Room_Occupancy_Count'].median()]\n",
        "\n",
        "\n",
        "sound_columns = [f\"S{i}_Sound\" for i in range(1, 5)]\n",
        "light_columns = [f\"S{i}_Light\" for i in range(1, 5)]\n",
        "\n",
        "\n",
        "q1_results = {\n",
        "    \"Sound\": {\n",
        "        \"Min\": high_occupancy_data[sound_columns].min().min(),\n",
        "        \"Max\": high_occupancy_data[sound_columns].max().max(),\n",
        "    },\n",
        "    \"Light\": {\n",
        "        \"Min\": high_occupancy_data[light_columns].min().min(),\n",
        "        \"Max\": high_occupancy_data[light_columns].max().max(),\n",
        "    },\n",
        "}\n",
        "\n",
        "\n",
        "print(\"Q1 Results: Max and Min Sound and Light Values Liked by Most Customers\")\n",
        "print(q1_results)\n"
      ],
      "metadata": {
        "colab": {
          "base_uri": "https://localhost:8080/"
        },
        "id": "-tRPw6_aKlqC",
        "outputId": "4bdc9db2-4677-469f-9bd8-af0ea0a3a741"
      },
      "execution_count": null,
      "outputs": [
        {
          "output_type": "stream",
          "name": "stdout",
          "text": [
            "Q1 Results: Max and Min Sound and Light Values Liked by Most Customers\n",
            "{'Sound': {'Min': 0.04, 'Max': 3.84}, 'Light': {'Min': 0, 'Max': 280}}\n"
          ]
        }
      ]
    },
    {
      "cell_type": "markdown",
      "source": [
        "Q2.identify the date and time when room occupancy was most."
      ],
      "metadata": {
        "id": "CXxmLNd4JlFa"
      }
    },
    {
      "cell_type": "code",
      "source": [
        "\n",
        "max_occupancy_timestamp = data.loc[data['Room_Occupancy_Count'].idxmax(), 'Timestamp']\n",
        "\n",
        "print(\"Q2 Result: Max Occupancy Timestamp:\", max_occupancy_timestamp)\n"
      ],
      "metadata": {
        "colab": {
          "base_uri": "https://localhost:8080/"
        },
        "id": "4paR16QzJMx5",
        "outputId": "1f5e6f06-1ad6-492c-8541-21a6705d41a4"
      },
      "execution_count": null,
      "outputs": [
        {
          "output_type": "stream",
          "name": "stdout",
          "text": [
            "Q2 Result: Max Occupancy Timestamp: 2017-12-22 12:30:16\n"
          ]
        }
      ]
    },
    {
      "cell_type": "markdown",
      "source": [
        "Q3.predict the temperature most suitable for most room occupancy."
      ],
      "metadata": {
        "id": "OXSNw_E_JvaS"
      }
    },
    {
      "cell_type": "code",
      "source": [
        "\n",
        "temp_columns = [f\"S{i}_Temp\" for i in range(1, 5)]\n",
        "suitable_temperature = high_occupancy_data[temp_columns].mean().mean()\n",
        "\n",
        "print(\"Q3 Result: Suitable Temperature:\", suitable_temperature)\n"
      ],
      "metadata": {
        "colab": {
          "base_uri": "https://localhost:8080/"
        },
        "id": "3T-MGYpMJOkS",
        "outputId": "fb0d910a-afa2-4e5d-97ea-1ee00dcd71e3"
      },
      "execution_count": null,
      "outputs": [
        {
          "output_type": "stream",
          "name": "stdout",
          "text": [
            "Q3 Result: Suitable Temperature: 26.009268805891637\n"
          ]
        }
      ]
    },
    {
      "cell_type": "markdown",
      "source": [
        "Q4.what levels of co2 is suitable and not suitable for room occupancy."
      ],
      "metadata": {
        "id": "L7lGWpR-JyHi"
      }
    },
    {
      "cell_type": "code",
      "source": [
        "\n",
        "co2_data = data.groupby(pd.cut(data['S5_CO2'], bins=10))['Room_Occupancy_Count'].mean()\n",
        "\n",
        "\n",
        "suitable_co2_range = co2_data.idxmax()\n",
        "\n",
        "print(\"Q4 Result: Suitable CO2 Range:\", suitable_co2_range)\n"
      ],
      "metadata": {
        "colab": {
          "base_uri": "https://localhost:8080/"
        },
        "id": "14nTwoxmJTXp",
        "outputId": "994993fe-aafb-488c-f0fc-80911904ddcc"
      },
      "execution_count": null,
      "outputs": [
        {
          "output_type": "stream",
          "name": "stdout",
          "text": [
            "Q4 Result: Suitable CO2 Range: (1177.5, 1270.0]\n"
          ]
        },
        {
          "output_type": "stream",
          "name": "stderr",
          "text": [
            "<ipython-input-5-97a3566107f5>:2: FutureWarning: The default of observed=False is deprecated and will be changed to True in a future version of pandas. Pass observed=False to retain current behavior or observed=True to adopt the future default and silence this warning.\n",
            "  co2_data = data.groupby(pd.cut(data['S5_CO2'], bins=10))['Room_Occupancy_Count'].mean()\n"
          ]
        }
      ]
    },
    {
      "cell_type": "markdown",
      "source": [
        "Q5.Does motion sensors contribute to increase or decrease of in room occupancy."
      ],
      "metadata": {
        "id": "3wsB_Y3WJ03i"
      }
    },
    {
      "cell_type": "code",
      "source": [
        "\n",
        "motion_sensor_corr = data[['Room_Occupancy_Count', 'S6_PIR', 'S7_PIR']].corr().loc[\n",
        "    ['S6_PIR', 'S7_PIR'], 'Room_Occupancy_Count']\n",
        "\n",
        "print(\"Q5 Result: Motion Sensor Correlation:\")\n",
        "print(motion_sensor_corr)\n"
      ],
      "metadata": {
        "colab": {
          "base_uri": "https://localhost:8080/"
        },
        "id": "7YwBsl6UJXRa",
        "outputId": "180a1e97-3059-421c-8aa8-ef484bfd27fb"
      },
      "execution_count": null,
      "outputs": [
        {
          "output_type": "stream",
          "name": "stdout",
          "text": [
            "Q5 Result: Motion Sensor Correlation:\n",
            "S6_PIR    0.633133\n",
            "S7_PIR    0.695138\n",
            "Name: Room_Occupancy_Count, dtype: float64\n"
          ]
        }
      ]
    }
  ]
}