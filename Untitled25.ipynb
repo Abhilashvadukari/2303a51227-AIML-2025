{
  "nbformat": 4,
  "nbformat_minor": 0,
  "metadata": {
    "colab": {
      "provenance": [],
      "authorship_tag": "ABX9TyMIkzkRDgZWSHVG66vlEh4V",
      "include_colab_link": true
    },
    "kernelspec": {
      "name": "python3",
      "display_name": "Python 3"
    },
    "language_info": {
      "name": "python"
    }
  },
  "cells": [
    {
      "cell_type": "markdown",
      "metadata": {
        "id": "view-in-github",
        "colab_type": "text"
      },
      "source": [
        "<a href=\"https://colab.research.google.com/github/Abhilashvadukari/2303a51227-AIML-2025/blob/main/Untitled25.ipynb\" target=\"_parent\"><img src=\"https://colab.research.google.com/assets/colab-badge.svg\" alt=\"Open In Colab\"/></a>"
      ]
    },
    {
      "cell_type": "code",
      "execution_count": 2,
      "metadata": {
        "colab": {
          "base_uri": "https://localhost:8080/"
        },
        "id": "-aUtfuAxD2Vc",
        "outputId": "0ab84a16-edd4-4cf0-8d7c-288d1c00c588"
      },
      "outputs": [
        {
          "output_type": "stream",
          "name": "stdout",
          "text": [
            "Enter a number (≤ 10): 6\n",
            "\n",
            "--- Call Stack Trace ---\n",
            "fact(6) called\n",
            "  fact(5) called\n",
            "    fact(4) called\n",
            "      fact(3) called\n",
            "        fact(2) called\n",
            "          fact(1) called\n",
            "          Returning 1\n",
            "        Returning 2\n",
            "      Returning 6\n",
            "    Returning 24\n",
            "  Returning 120\n",
            "Returning 720\n",
            "\n",
            "Result: 720\n"
          ]
        }
      ],
      "source": [
        "def fact(n, depth=0):\n",
        "    space = \"  \" * depth\n",
        "    print(f\"{space}fact({n}) called\")\n",
        "    if n <= 0 or n <= 1:\n",
        "        print(f\"{space}Returning 1\")\n",
        "        return 1\n",
        "    else:\n",
        "        res = n * fact(n - 1, depth + 1)\n",
        "        print(f\"{space}Returning {res}\")\n",
        "        return res\n",
        "\n",
        "num = int(input(\"Enter a number (≤ 10): \"))\n",
        "if 0 <= num <= 10:\n",
        "    print(\"\\n--- Call Stack Trace ---\")\n",
        "    result = fact(num)\n",
        "    print(f\"\\nResult: {result}\")\n",
        "else:\n",
        "    print(\"Invalid input. Please enter a number between 0 and 10.\")"
      ]
    }
  ]
}